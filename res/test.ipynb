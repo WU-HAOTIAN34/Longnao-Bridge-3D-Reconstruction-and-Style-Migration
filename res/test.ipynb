{
 "cells": [
  {
   "cell_type": "code",
   "execution_count": 9,
   "metadata": {},
   "outputs": [],
   "source": [
    "\n",
    "import imageio\n",
    "import cv2\n",
    " \n",
    "video = imageio.get_reader('2023-08-20_220626.mp4')\n",
    "images = []\n",
    " \n",
    "#gif_writer = imageio.get_writer('output4.gif', mode='I')\n",
    " \n",
    "for frame in video:\n",
    "    frame = cv2.resize(frame, (0, 0), fx=0.25, fy=0.25)\n",
    "    images.append(frame)\n",
    "\n",
    "\n",
    "#gif_writer.close()\n",
    "imageio.mimsave(\"output5.gif\", images, duration=0.01, loop=0)\n"
   ]
  }
 ],
 "metadata": {
  "interpreter": {
   "hash": "83ad59c4eadbf961173d4c8bd6bbc5ca16711ce41fe50a645aa7629a5e34eff9"
  },
  "kernelspec": {
   "display_name": "Python 3.10.4 ('myenv')",
   "language": "python",
   "name": "python3"
  },
  "language_info": {
   "codemirror_mode": {
    "name": "ipython",
    "version": 3
   },
   "file_extension": ".py",
   "mimetype": "text/x-python",
   "name": "python",
   "nbconvert_exporter": "python",
   "pygments_lexer": "ipython3",
   "version": "3.10.6"
  },
  "orig_nbformat": 4
 },
 "nbformat": 4,
 "nbformat_minor": 2
}
